{
 "cells": [
  {
   "cell_type": "code",
   "execution_count": 41,
   "metadata": {
    "collapsed": false
   },
   "outputs": [
    {
     "name": "stdout",
     "output_type": "stream",
     "text": [
      "[1] \"Minimum GPA is 3.06\"\n",
      "[1] \"Minimum Years of Experience is 1\"\n",
      "[1] \"Maximum GPA is 4\"\n",
      "[1] \"Maximum Years of Experience is 6\"\n",
      "[1] \"Median of GPA is 3.5\"\n",
      "[1] \"Median of Years of Experience is 2.5\"\n",
      "[1] \"Average GPA is 3.51\"\n",
      "[1] \"Average Years of Experience is 3.51\"\n"
     ]
    }
   ],
   "source": [
    "# Importing data from CSV to data.frame\n",
    "classData <- read.csv(\"D:/NEU/Spring2017/ADS/ClassData.csv\")\n",
    "\n",
    "# Min GPA\n",
    "print(paste(\"Minimum GPA is\", min(classData$GPA)))\n",
    "\n",
    "# Min YearOfExperience\n",
    "print(paste(\"Minimum Years of Experience is\", min(classData$Years.of.work.experience)))\n",
    "\n",
    "# Max GPA\n",
    "print(paste(\"Maximum GPA is\", max(classData$GPA)))\n",
    "\n",
    "# Max YearOfExperience\n",
    "print(paste(\"Maximum Years of Experience is\", max(classData$Years.of.work.experience)))\n",
    "\n",
    "# Median GPA\n",
    "print(paste(\"Median of GPA is\", median(classData$GPA)))\n",
    "\n",
    "# Median YearOfExperience\n",
    "print(paste(\"Median of Years of Experience is\", median(classData$Years.of.work.experience)))\n",
    "\n",
    "# Average GPA\n",
    "print(paste(\"Average GPA is\", round(mean(classData$GPA), 2)))\n",
    "\n",
    "# Average YearOfExperience\n",
    "print(paste(\"Average Years of Experience is\", round(mean(classData$Years.of.work.experience), 2)))"
   ]
  },
  {
   "cell_type": "code",
   "execution_count": 20,
   "metadata": {
    "collapsed": false
   },
   "outputs": [
    {
     "name": "stdout",
     "output_type": "stream",
     "text": [
      "[1] \"Mode of the Latest salary is  60000\"\n"
     ]
    }
   ],
   "source": [
    "# function to calculate the mode\n",
    "calculateMode <- function(inVector) {\n",
    "    # retreiving unique values in a vector\n",
    "    uniqueVector <- unique(inVector)\n",
    "    # numbering the input vector as per the unique values\n",
    "    numberedVector <- match(inVector, uniqueVector)\n",
    "    # counting the number of occurances\n",
    "    countedVector <- tabulate(numberedVector)\n",
    "  return (uniqueVector[which.max(countedVector)])\n",
    "}\n",
    "\n",
    "# calculate mode using user-defined functinon\n",
    "print(paste(\"Mode of the Latest salary is\",calculateMode(classData$Latest.salary..per.year.)))"
   ]
  },
  {
   "cell_type": "code",
   "execution_count": 25,
   "metadata": {
    "collapsed": false
   },
   "outputs": [
    {
     "name": "stdout",
     "output_type": "stream",
     "text": [
      "[1] \"70.59 % of students have CO-OPs.\"\n",
      "[1] \"29.41 % of students do not have CO-OPs.\"\n"
     ]
    }
   ],
   "source": [
    "# function to  caluculate percentage in a vector\n",
    "calculatePercent <- function(inVector){\n",
    "    # countinng the number of occurances\n",
    "    countedVector <- table(inVector)\n",
    "    # calculate the percentage of unique values\n",
    "    percentVector <- round(prop.table(countedVector) * 100, 2)\n",
    "    return(percentVector)\n",
    "}\n",
    "\n",
    "# calculate percent using user-defined function\n",
    "percentVector <- calculatePercent(classData$Coops.Internships..YN.)\n",
    "print(paste(percentVector[\"Y\"],\"% of students have CO-OPs.\"))\n",
    "print(paste(percentVector[\"N\"],\"% of students do not have CO-OPs.\"))"
   ]
  },
  {
   "cell_type": "code",
   "execution_count": 35,
   "metadata": {
    "collapsed": false
   },
   "outputs": [
    {
     "name": "stdout",
     "output_type": "stream",
     "text": [
      "[1] \"10  students have more than 500 LinkedIn contacts.\"\n"
     ]
    }
   ],
   "source": [
    "# number of rows having more than 500 linkedin contacts\n",
    "linkedin500 <- classData$Number.of.contacts.on.Linkedin[classData$Number.of.contacts.on.Linkedin > 500]\n",
    "\n",
    "# number of students having more than 500 LinkedIn contacts \n",
    "print(paste(length(linkedin500), \"students have more than 500 LinkedIn contacts.\"))"
   ]
  },
  {
   "cell_type": "code",
   "execution_count": 40,
   "metadata": {
    "collapsed": false
   },
   "outputs": [
    {
     "name": "stdout",
     "output_type": "stream",
     "text": [
      "[1] \"Inter Quartile Range for the Expected Salalry Range is 10000\"\n"
     ]
    }
   ],
   "source": [
    "# calculate Inter Quartile Range\n",
    "print(paste(\"Inter Quartile Range for the Expected Salalry Range is\",  IQR(classData$Expected.Salary.after.graduation)))"
   ]
  }
 ],
 "metadata": {
  "anaconda-cloud": {},
  "kernelspec": {
   "display_name": "R",
   "language": "R",
   "name": "ir"
  },
  "language_info": {
   "codemirror_mode": "r",
   "file_extension": ".r",
   "mimetype": "text/x-r-source",
   "name": "R",
   "pygments_lexer": "r",
   "version": "3.3.2"
  }
 },
 "nbformat": 4,
 "nbformat_minor": 1
}
