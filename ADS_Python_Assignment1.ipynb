{
 "cells": [
  {
   "cell_type": "code",
   "execution_count": 32,
   "metadata": {
    "collapsed": false
   },
   "outputs": [],
   "source": [
    "# Importing data from CSV to data.frame\n",
    "import pandas as pd\n",
    "classData = pd.read_csv('D:/NEU/Spring2017/ADS/ClassData.csv')"
   ]
  },
  {
   "cell_type": "code",
   "execution_count": 35,
   "metadata": {
    "collapsed": false
   },
   "outputs": [
    {
     "name": "stdout",
     "output_type": "stream",
     "text": [
      "Minimum GPA is 3.06\n",
      "Minimum Years of Experience is 1.0\n",
      "Maximum GPA is 4.0\n",
      "Maximum Years of Experience is 6.0\n",
      "Median of GPA is 3.5\n",
      "Median of Years of Experience is 2.5\n",
      "Average GPA is 3.51\n",
      "Average Years of Experience is 2.81\n"
     ]
    }
   ],
   "source": [
    "# Min GPA\n",
    "print(\"Minimum GPA is\", classData[\"GPA\"].min())\n",
    "\n",
    "# Min YearOfExperience\n",
    "print(\"Minimum Years of Experience is\", classData[\"Years of work experience\"].min())\n",
    "\n",
    "# Max GPA\n",
    "print(\"Maximum GPA is\", classData[\"GPA\"].max())\n",
    "\n",
    "# Max YearOfExperience\n",
    "print(\"Maximum Years of Experience is\", classData[\"Years of work experience\"].max())\n",
    "\n",
    "# Median GPA\n",
    "print(\"Median of GPA is\", classData[\"GPA\"].median())\n",
    "\n",
    "# Median YearOfExperience\n",
    "print(\"Median of Years of Experience is\", classData[\"Years of work experience\"].median())\n",
    "\n",
    "# Average GPA\n",
    "print(\"Average GPA is\", round(classData[\"GPA\"].mean(), 2))\n",
    "\n",
    "# Average YearOfExperience\n",
    "print(\"Average Years of Experience is\", round(classData[\"Years of work experience\"].mean(), 2))"
   ]
  },
  {
   "cell_type": "code",
   "execution_count": 40,
   "metadata": {
    "collapsed": false
   },
   "outputs": [
    {
     "name": "stdout",
     "output_type": "stream",
     "text": [
      "Mode of the Latest salary is 60000\n"
     ]
    }
   ],
   "source": [
    "# calculate mode of latest salary\n",
    "print(\"Mode of the Latest salary is\", classData[\"Latest salary (per year)\"].mode()[0])"
   ]
  },
  {
   "cell_type": "code",
   "execution_count": 76,
   "metadata": {
    "collapsed": false
   },
   "outputs": [
    {
     "name": "stdout",
     "output_type": "stream",
     "text": [
      "70.59 % of students have CO-OPs.\n",
      "29.41 % of students do not have CO-OPs.\n"
     ]
    }
   ],
   "source": [
    "# calculate percent of students having CO-OPs\n",
    "print((classData[\"No\"][classData[\"Coops/Internships (YN)\"] == \"Y\"].count()*100/classData[\"No\"].count()).round(2),\"% of students have CO-OPs.\")\n",
    "print((classData[\"No\"][classData[\"Coops/Internships (YN)\"] == \"N\"].count()*100/classData[\"No\"].count()).round(2),\"% of students do not have CO-OPs.\")"
   ]
  },
  {
   "cell_type": "code",
   "execution_count": 70,
   "metadata": {
    "collapsed": false
   },
   "outputs": [
    {
     "name": "stdout",
     "output_type": "stream",
     "text": [
      "10 students have more than 500 LinkedIn contacts.\n"
     ]
    }
   ],
   "source": [
    "# number of students having more than 500 LinkedIn contacts\n",
    "print((classData[\"No\"][classData[\"Number of contacts on Linkedin\"]>500]).count(),\"students have more than 500 LinkedIn contacts.\")"
   ]
  },
  {
   "cell_type": "code",
   "execution_count": 80,
   "metadata": {
    "collapsed": false
   },
   "outputs": [
    {
     "name": "stdout",
     "output_type": "stream",
     "text": [
      "Inter Quartile Range for the Expected Salalry Range is 10000.0\n"
     ]
    }
   ],
   "source": [
    "# calculate Inter Quartile Range\n",
    "# sort data by Expected Salary after graduation\n",
    "classData.sort_values(\"Expected Salary after graduation\", inplace = True)\n",
    "\n",
    "# 1st quantile\n",
    "Q1 = classData[\"Expected Salary after graduation\"].quantile(0.25)\n",
    "\n",
    "# 2nd quantile\n",
    "Q3 = classData[\"Expected Salary after graduation\"].quantile(0.75)\n",
    "\n",
    "# Inter Quartile Range\n",
    "print(\"Inter Quartile Range for the Expected Salalry Range is\", Q3-Q1)"
   ]
  }
 ],
 "metadata": {
  "anaconda-cloud": {},
  "kernelspec": {
   "display_name": "Python [default]",
   "language": "python",
   "name": "python3"
  },
  "language_info": {
   "codemirror_mode": {
    "name": "ipython",
    "version": 3
   },
   "file_extension": ".py",
   "mimetype": "text/x-python",
   "name": "python",
   "nbconvert_exporter": "python",
   "pygments_lexer": "ipython3",
   "version": "3.5.2"
  }
 },
 "nbformat": 4,
 "nbformat_minor": 1
}
